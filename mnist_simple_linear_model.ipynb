{
 "cells": [
  {
   "cell_type": "markdown",
   "metadata": {},
   "source": [
    "# Simple Linear Model"
   ]
  },
  {
   "cell_type": "markdown",
   "metadata": {},
   "source": [
    "En este .ipynb volveremos sobre un modelo lineal simple similar al tratado en los dos notebooks anteriores. \n",
    "Como entrada al modelo haremos uso del famoso MNIST dataset, formado por un conjunto de dígitos escritos a mano.\n",
    "\n",
    "Nuestro modelo deberá ser capaz de estimar de qué número se trata, por lo que nos encontramos ante un claro ejemplo de clasificación."
   ]
  },
  {
   "cell_type": "code",
   "execution_count": 1,
   "metadata": {},
   "outputs": [],
   "source": [
    "# Importamos las librerías a las que vamos a recurrir en este cuaderno.\n",
    "\n",
    "%matplotlib inline\n",
    "import matplotlib.pyplot as plt\n",
    "import tensorflow as tf\n",
    "import numpy as np\n",
    "from sklearn.metrics import confusion_matrix"
   ]
  },
  {
   "cell_type": "markdown",
   "metadata": {},
   "source": [
    "Como en todos los cuadernos de esta serie, se está trabajando con una versión de Python 3.5.2 (Anaconda) y con una versión de TensorFlow:"
   ]
  },
  {
   "cell_type": "code",
   "execution_count": 2,
   "metadata": {},
   "outputs": [
    {
     "data": {
      "text/plain": [
       "'1.2.1'"
      ]
     },
     "execution_count": 2,
     "metadata": {},
     "output_type": "execute_result"
    }
   ],
   "source": [
    "tf.__version__"
   ]
  },
  {
   "cell_type": "markdown",
   "metadata": {},
   "source": [
    "## Obtención de los datos"
   ]
  },
  {
   "cell_type": "markdown",
   "metadata": {},
   "source": [
    "El MNIST data-set que vamos a usar ocupa aproximadamente 12 MB y se descargará automáticamente desde los tutoriales de ejemplo de TensorFlow."
   ]
  },
  {
   "cell_type": "code",
   "execution_count": 3,
   "metadata": {},
   "outputs": [
    {
     "name": "stdout",
     "output_type": "stream",
     "text": [
      "Extracting data/MNIST/train-images-idx3-ubyte.gz\n"
     ]
    },
    {
     "name": "stdout",
     "output_type": "stream",
     "text": [
      "Extracting data/MNIST/train-labels-idx1-ubyte.gz\nExtracting data/MNIST/t10k-images-idx3-ubyte.gz\nExtracting data/MNIST/t10k-labels-idx1-ubyte.gz\n"
     ]
    }
   ],
   "source": [
    "from tensorflow.examples.tutorials.mnist import input_data\n",
    "data = input_data.read_data_sets(\"data/MNIST/\", one_hot = True)"
   ]
  },
  {
   "cell_type": "markdown",
   "metadata": {},
   "source": [
    "Ya tenemos el MNIST data-set, que está compuesto por 70.000 imágenes, cada una con su correspondiente etiqueta (label). El data-set está partido en los sets de entrenamiento, testeo y validación."
   ]
  },
  {
   "cell_type": "code",
   "execution_count": 4,
   "metadata": {},
   "outputs": [
    {
     "name": "stdout",
     "output_type": "stream",
     "text": [
      "Tamaño del:\n- Training-set:\t55000\n- Test-set:\t\t10000\n- Validation-set:\t5000\n"
     ]
    }
   ],
   "source": [
    "print(\"Tamaño del:\")\n",
    "print(\"- Training-set:\\t{}\".format(len(data.train.labels)))\n",
    "print(\"- Test-set:\\t\\t{}\".format(len(data.test.labels)))\n",
    "print(\"- Validation-set:\\t{}\".format(len(data.validation.labels)))"
   ]
  },
  {
   "cell_type": "markdown",
   "metadata": {},
   "source": [
    "### One-Hot Encoding"
   ]
  },
  {
   "cell_type": "markdown",
   "metadata": {},
   "source": [
    "Se ha escogido la opción de cargar el data-set con la opción de One-Hot encoding. Esto significa que la etiqueta de cada imagen se ha convertido de un número a un vector cuya longitud equivale al número de clases posibles. Para una determinada etiqueta correspondiente a un número i, nos encontramos con que todos los elementos de ese array son 0 salvo el elemento i-ésimo, que se deja como un 1. Por ejemplo, para las primeras 3 imágenes del test data-set:"
   ]
  },
  {
   "cell_type": "code",
   "execution_count": 5,
   "metadata": {},
   "outputs": [
    {
     "data": {
      "text/plain": [
       "array([[ 0.,  0.,  0.,  0.,  0.,  0.,  0.,  1.,  0.,  0.],\n       [ 0.,  0.,  1.,  0.,  0.,  0.,  0.,  0.,  0.,  0.],\n       [ 0.,  1.,  0.,  0.,  0.,  0.,  0.,  0.,  0.,  0.]])"
      ]
     },
     "execution_count": 5,
     "metadata": {},
     "output_type": "execute_result"
    }
   ],
   "source": [
    "# Ejemplos de One-Hot encoded label\n",
    "data.test.labels[0:3, :]"
   ]
  },
  {
   "cell_type": "markdown",
   "metadata": {},
   "source": [
    "Considerando que los números del dataset son los enteros hasta el 9 más el 0, tenemos un 7, un 2 y un 1 respectivamente.\n",
    "\n",
    "También vamos a necesitar las clases como enteros, no como array, para poder medir la calidad de las predicciones de nuestro modelo. Es prácticamente inmediato convertir los vectores One-Hot encoded a números tomando el índice del elemento mayor de ese array."
   ]
  },
  {
   "cell_type": "code",
   "execution_count": 6,
   "metadata": {},
   "outputs": [],
   "source": [
    "data.test.cls = np.array([label.argmax() for label in data.test.labels])"
   ]
  },
  {
   "cell_type": "code",
   "execution_count": 7,
   "metadata": {},
   "outputs": [
    {
     "data": {
      "text/plain": [
       "array([7, 2, 1])"
      ]
     },
     "execution_count": 7,
     "metadata": {},
     "output_type": "execute_result"
    },
    {
     "data": {
      "text/plain": [
       "array([7, 2, 1])"
      ]
     },
     "execution_count": 7,
     "metadata": {},
     "output_type": "execute_result"
    }
   ],
   "source": [
    "data.test.cls[0:3]"
   ]
  },
  {
   "cell_type": "markdown",
   "metadata": {},
   "source": [
    "### Dimensionalidad de los datos"
   ]
  },
  {
   "cell_type": "code",
   "execution_count": 8,
   "metadata": {},
   "outputs": [],
   "source": [
    "# Las imágenes de MNIST son de 28 x 28 píxeles\n",
    "img_size = 28\n",
    "\n",
    "# Haremos un resizing/flattening de las imágenes a arrays de tamaño 28 * 28\n",
    "img_size_flat = img_size * img_size\n",
    "\n",
    "# La dimensionalidad de las imágenes se puede expresar como:\n",
    "img_shape = (img_size, img_size)\n",
    "\n",
    "# El número de clases con el que vamos a trabajar es 10, uno por cada dígito del 0 al 9\n",
    "num_classes = 10"
   ]
  },
  {
   "cell_type": "markdown",
   "metadata": {},
   "source": [
    "### Función para representación de las imágenes del dataset"
   ]
  },
  {
   "cell_type": "markdown",
   "metadata": {},
   "source": [
    "A continuación, definimos una función auxiliar para la respresentación en un grid `3 x 3` de 9 imágenes, que incluya tanto la clase verdadera como la predicha."
   ]
  },
  {
   "cell_type": "code",
   "execution_count": 9,
   "metadata": {},
   "outputs": [],
   "source": [
    "def plot_images(images, cls_true, cls_pred = None):\n",
    "    # Verificamos que la longitud del contenedor de imágenes coincide con el número de clases \n",
    "    assert len(images) == len(cls_true) == 9\n",
    "    \n",
    "    # Se genera la figura con 9 subplots en estructura 3 x 3.\n",
    "    fig, axes = plt.subplots(3, 3)\n",
    "    fig.subplots_adjust(hspace=0.3, wspace=0.3)\n",
    "\n",
    "    for i, ax in enumerate(axes.flat):\n",
    "        # Se representan las imágenes.\n",
    "        ax.imshow(images[i].reshape(img_shape), cmap='binary')\n",
    "\n",
    "        # Incluimos como xlabel para cada subplot la clase verdadera y la predicha.\n",
    "        if cls_pred is None:\n",
    "            xlabel = \"True: {0}\".format(cls_true[i])\n",
    "        else:\n",
    "            xlabel = \"True: {0}, Pred: {1}\".format(cls_true[i], cls_pred[i])\n",
    "\n",
    "        ax.set_xlabel(xlabel)\n",
    "        \n",
    "        # Eliminamos los ticks de los ejes (detalle cosmético)\n",
    "        ax.set_xticks([])\n",
    "        ax.set_yticks([])\n",
    "        \n",
    "    plt.show()"
   ]
  },
  {
   "cell_type": "markdown",
   "metadata": {},
   "source": [
    "### Representación de algunas imágenes "
   ]
  },
  {
   "cell_type": "code",
   "execution_count": 10,
   "metadata": {},
   "outputs": [
    {
     "data": {
      "image/png": "[encoded data removed]",
      "text/plain": [
       "<matplotlib.figure.Figure at 0x7f142143cac8>"
      ]
     },
     "metadata": {},
     "output_type": "display_data"
    }
   ],
   "source": [
    "# Tomamos las primeras 9 imágenes del test data-set.\n",
    "images = data.test.images[0:9]\n",
    "\n",
    "# Alamcenamos en cls_true la verdadera clase de cada una de las imágenes.\n",
    "cls_true = data.test.cls[0:9]\n",
    "\n",
    "# Representamos en base a la función definida arriba. \n",
    "# De momento no contamos con clases predichas, así que mantenemos cls_pred = None.\n",
    "plot_images(images=images, cls_true=cls_true)"
   ]
  },
  {
   "cell_type": "markdown",
   "metadata": {},
   "source": [
    "## Definición de variables en TensorFlow"
   ]
  },
  {
   "cell_type": "markdown",
   "metadata": {},
   "source": [
    "Debemos definir mediante Placeholders las variables que sirvan como input a nuestro grafo del modelo. \n",
    "Para cada imagen que incluyamos en el modelo definimos una variable placeholder de tamaño `img_size_flat = img_size * img_size`: "
   ]
  },
  {
   "cell_type": "code",
   "execution_count": 11,
   "metadata": {},
   "outputs": [],
   "source": [
    "x = tf.placeholder(tf.float32, [None, img_size_flat])"
   ]
  },
  {
   "cell_type": "markdown",
   "metadata": {},
   "source": [
    "También creamos una variable placeholder para las clases verdaderas asociadas a cada imagen que se introduzca en el placeholder `x`. La definimos con un tamaño `[None, num_classes]`, lo que significa que puede albergar un número arbitrario de etiquetas de tamaño `num_classes`, que es 10 en el caso que nos ocupa."
   ]
  },
  {
   "cell_type": "code",
   "execution_count": 12,
   "metadata": {},
   "outputs": [],
   "source": [
    "y_true = tf.placeholder(tf.float32, [None, num_classes])"
   ]
  },
  {
   "cell_type": "markdown",
   "metadata": {},
   "source": [
    "Por último, creamos una variable placeholder para la clase en forma de entero. Para ello, elegimo como `dtype = tf.int64` y como dimensión un vector unidimensional de tamaño indefinido `[None]`."
   ]
  },
  {
   "cell_type": "code",
   "execution_count": 13,
   "metadata": {},
   "outputs": [],
   "source": [
    "y_true_cls = tf.placeholder(tf.int64, [None])"
   ]
  },
  {
   "cell_type": "markdown",
   "metadata": {},
   "source": [
    "### Variables a optimizar durante el entrenamiento"
   ]
  },
  {
   "cell_type": "markdown",
   "metadata": {},
   "source": [
    "También necesitamos definir las variables relativas a la arquitectura que van a optimizarse durante el entrenamiento del modelos. Estas variables son dos: los pesos y los biases.\n",
    "\n",
    "Los pesos deben definirse como un tensor bidimensional de dimensión `[img_size_flat, num_classes]`, mientras que los biases deben ser una matriz de dimensión `[num_classes]`.\n",
    "\n",
    "Definimos ambas variables al inicio como un conjunto de ceros con la dimensionalidad indicada."
   ]
  },
  {
   "cell_type": "code",
   "execution_count": 14,
   "metadata": {},
   "outputs": [],
   "source": [
    "weights = tf.Variable(tf.zeros([img_size_flat, num_classes]))"
   ]
  },
  {
   "cell_type": "code",
   "execution_count": 15,
   "metadata": {},
   "outputs": [],
   "source": [
    "biases = tf.Variable(tf.zeros([num_classes]))"
   ]
  },
  {
   "cell_type": "markdown",
   "metadata": {},
   "source": [
    "### Definición del modelo"
   ]
  },
  {
   "cell_type": "markdown",
   "metadata": {},
   "source": [
    "Nuestro modelo simplemente debe hacer la multiplicación de la variable de entrada `x` con los `weights` y luego sumarle la variable `bias`. \n",
    "\n",
    "Llamaremos `logits` a ese conjunto de operaciones:"
   ]
  },
  {
   "cell_type": "code",
   "execution_count": 16,
   "metadata": {},
   "outputs": [],
   "source": [
    "logits = tf.matmul(x, weights) + biases"
   ]
  },
  {
   "cell_type": "code",
   "execution_count": 17,
   "metadata": {},
   "outputs": [
    {
     "data": {
      "text/plain": [
       "<tf.Tensor 'add:0' shape=(?, 10) dtype=float32>"
      ]
     },
     "execution_count": 17,
     "metadata": {},
     "output_type": "execute_result"
    }
   ],
   "source": [
    "logits"
   ]
  },
  {
   "cell_type": "markdown",
   "metadata": {},
   "source": [
    "`logits` es una matriz con un número de filas `? = num_images` y un número de columnas `num_classes = 10`. Con esto estamos obteniendo la predicción de un One-Hot encoded label."
   ]
  },
  {
   "cell_type": "markdown",
   "metadata": {},
   "source": [
    "Para obtener en el rango esperado la clase predicha, normalizamos el output de nuestro modelo usando la función softmax:\n"
   ]
  },
  {
   "cell_type": "code",
   "execution_count": 18,
   "metadata": {},
   "outputs": [],
   "source": [
    "y_pred = tf.nn.softmax(logits)"
   ]
  },
  {
   "cell_type": "markdown",
   "metadata": {},
   "source": [
    "Y es inmediato calcular la matriz de clases en forma de enteros recurriendo a `tf.argmax()`:"
   ]
  },
  {
   "cell_type": "code",
   "execution_count": 19,
   "metadata": {},
   "outputs": [],
   "source": [
    "y_pred_cls = tf.argmax(y_pred, axis=1)"
   ]
  },
  {
   "cell_type": "markdown",
   "metadata": {},
   "source": [
    "### Función de coste para la optimización"
   ]
  },
  {
   "cell_type": "markdown",
   "metadata": {},
   "source": [
    "Optimizar los `weights` y `biases` del modelo dada la natrualeza de las entradas al modelo no es trivial. Necesitamos saber cómo de bueno es nuestro modelo prediciendo el valor de `y_pred` tomando como referencia `y_true`.\n",
    "\n",
    "La cross-entropy es una medida de rendimiento ampliamente utilizada en la clasificación, siendo una función continua siempre positiva. Si la salida pronosticada del modelo coincide exactamente con la salida deseada, esta cross-entropy es igual a cero. Nuestro objetivo a la hora de optimizar es, por lo tanto, minimizar esa cross-entropy para que se acerque lo más posible a cero.\n",
    "\n",
    "TensorFlow tiene una función incorporada para calcular esta función. Hay que tener cuidado, aquí usaremos directamente los valores de `logits`; esta función incorpora su `tf.softmax` internamente."
   ]
  },
  {
   "cell_type": "code",
   "execution_count": 20,
   "metadata": {},
   "outputs": [],
   "source": [
    "cross_entropy = tf.nn.softmax_cross_entropy_with_logits(logits = logits,\n",
    "                                                        labels = y_true)"
   ]
  },
  {
   "cell_type": "markdown",
   "metadata": {},
   "source": [
    "Ahora, la función de coste está dirigida a minimizar la cross-entropy:"
   ]
  },
  {
   "cell_type": "code",
   "execution_count": 21,
   "metadata": {},
   "outputs": [],
   "source": [
    "cost = tf.reduce_mean(cross_entropy)"
   ]
  },
  {
   "cell_type": "markdown",
   "metadata": {},
   "source": [
    "### Método de optimización"
   ]
  },
  {
   "cell_type": "markdown",
   "metadata": {},
   "source": [
    "Tras haber definido una función que nos mida la bondad de nuestro ajuste y una función que nos permita qué tipo de minimización de esa función buscamos, ahora podemos crear un optimizador. Elegimos Gradient Descent con una learning rate relativamente elevada (0.5). \n",
    "\n",
    "Nótese que la optimización no comienza en este punto. Lo único que hemos hecho es añadir un elemento optimizador al grafo de TensorFlow para una posterior ejecución."
   ]
  },
  {
   "cell_type": "code",
   "execution_count": 22,
   "metadata": {},
   "outputs": [],
   "source": [
    "optimizer = tf.train.GradientDescentOptimizer(learning_rate=0.5).minimize(cost)"
   ]
  },
  {
   "cell_type": "markdown",
   "metadata": {},
   "source": [
    "### Monitorización del rendimiento"
   ]
  },
  {
   "cell_type": "markdown",
   "metadata": {},
   "source": [
    "Sería conveniente tener alguna herramienta para medir el rendiemiento del entrenamiento.\n",
    "\n",
    "Definimos un vector de booleanos en función de si la clase predicha es igual a la clase esperada para cada imagen. Aqué es donde le sacamos partido a la definición de las clases como resultado de hacer `tf.argmax()` sobre las One-Hot encoded labels."
   ]
  },
  {
   "cell_type": "code",
   "execution_count": 23,
   "metadata": {},
   "outputs": [],
   "source": [
    "correct_prediction = tf.equal(y_pred_cls, y_true_cls)"
   ]
  },
  {
   "cell_type": "markdown",
   "metadata": {},
   "source": [
    "La precisión de la clasificación se puede aproximar como la media de las correctas predicciones. Recurrimos a `tf.cast( , tf.float32)` para poder ejecutar correctamente `tf.reduce_mean()`."
   ]
  },
  {
   "cell_type": "code",
   "execution_count": 24,
   "metadata": {},
   "outputs": [],
   "source": [
    "accuracy = tf.reduce_mean(tf.cast(correct_prediction, tf.float32))"
   ]
  },
  {
   "cell_type": "markdown",
   "metadata": {},
   "source": [
    "## Ejecución del entrenamiento con TensorFlow"
   ]
  },
  {
   "cell_type": "markdown",
   "metadata": {},
   "source": [
    "### Creación de una sesión\n",
    "\n",
    "Ya tenemos el grafo creado en TensorFlow. Ahora podemos crear una sesión para su posterior ejecución."
   ]
  },
  {
   "cell_type": "code",
   "execution_count": 25,
   "metadata": {},
   "outputs": [],
   "source": [
    "session = tf.Session()"
   ]
  },
  {
   "cell_type": "markdown",
   "metadata": {},
   "source": [
    "### ¡Debemos inicializar variables!\n",
    "\n",
    "Todo aquel elemento que se haya definido anteriormente como tf.Variable() debe inicializarse. En nuestro caso esto se corresponde con `weights` y `biases`"
   ]
  },
  {
   "cell_type": "code",
   "execution_count": 26,
   "metadata": {},
   "outputs": [],
   "source": [
    "init = tf.global_variables_initializer()"
   ]
  },
  {
   "cell_type": "code",
   "execution_count": 27,
   "metadata": {},
   "outputs": [],
   "source": [
    "session.run(init)"
   ]
  },
  {
   "cell_type": "markdown",
   "metadata": {},
   "source": [
    "### Función auxiliar para optimizar mediante iteraciones (batches)"
   ]
  },
  {
   "cell_type": "markdown",
   "metadata": {},
   "source": [
    "Contamos con 50.000 imágenes para entrenar el modelo. Como hicimos en anteriores ajustes lineales, emplearemos Stochastic Gradient Descent, que hará uso de de un reducido número de imágenes. Esta cantidad la definimos nosotros:"
   ]
  },
  {
   "cell_type": "code",
   "execution_count": 28,
   "metadata": {},
   "outputs": [],
   "source": [
    "batch_size = 100"
   ]
  },
  {
   "cell_type": "markdown",
   "metadata": {},
   "source": [
    "La siguiente función realiza, para cada batch de datos del training set, una optimización del modelo. De esta manera, se refinan los valores de `weights` y `biases`."
   ]
  },
  {
   "cell_type": "code",
   "execution_count": 29,
   "metadata": {},
   "outputs": [],
   "source": [
    "def optimize(num_iterations):\n",
    "    for i in range(num_iterations):\n",
    "        # Elige un batch para el entrenamiento.\n",
    "        # x_batch es un batch de imágenes y\n",
    "        # y_true_batch son las etiquetas verdaderas de esas imágenes.\n",
    "        x_batch, y_true_batch = data.train.next_batch(batch_size)\n",
    "        \n",
    "        # Creamos un feed_dict con las variables placeholder \n",
    "        # definidas en el grafo. El placeholder y_true_cls no \n",
    "        # se especifica en el feed_dict porque no se usa \n",
    "        # durante el entrenamiento, sino\n",
    "        # durante la evaluación.\n",
    "        feed_dict_train = {x: x_batch,\n",
    "                           y_true: y_true_batch}\n",
    "\n",
    "        # Ejecutamos la sesión llamando al optimizador \n",
    "        # para cada batch de datos de training-set.\n",
    "        # TensorFlow asigna las variables en feed_dict_train\n",
    "        # a las variables placeholder y ejecuta el optimizador\n",
    "        session.run(optimizer, feed_dict=feed_dict_train)"
   ]
  },
  {
   "cell_type": "markdown",
   "metadata": {},
   "source": [
    "### Funciones auxiliares para monitorizar la bondad del modelo"
   ]
  },
  {
   "cell_type": "markdown",
   "metadata": {},
   "source": [
    "Para evaluar el modelo creamos un feed dictionary que contenga el test data-set y las clases verdaderas tanto en forma de One-Hot encoder como en su formato argmax."
   ]
  },
  {
   "cell_type": "code",
   "execution_count": 30,
   "metadata": {},
   "outputs": [],
   "source": [
    "feed_dict_test = {x: data.test.images,\n",
    "                  y_true: data.test.labels,\n",
    "                  y_true_cls: data.test.cls}"
   ]
  },
  {
   "cell_type": "markdown",
   "metadata": {},
   "source": [
    "Recurrimos a la expresión `accuracy = tf.reduce_mean(tf.cast(correct_prediction, tf.float32))` antes dada."
   ]
  },
  {
   "cell_type": "code",
   "execution_count": 31,
   "metadata": {},
   "outputs": [],
   "source": [
    "def print_accuracy():\n",
    "    # Ejecuta una sesión para calcular la accuracy de nuestro test data-set\n",
    "    acc = session.run(accuracy, feed_dict=feed_dict_test)\n",
    "    \n",
    "    # Muestra la precisión\n",
    "    print(\"Precisión del test-set: {0:.1%}\".format(acc))"
   ]
  },
  {
   "cell_type": "markdown",
   "metadata": {},
   "source": [
    "Llamando a la librería scikit-learn, generamos la matriz de confusión."
   ]
  },
  {
   "cell_type": "code",
   "execution_count": 32,
   "metadata": {},
   "outputs": [],
   "source": [
    "def print_confusion_matrix():\n",
    "    # Almacenamos las clases verdaderas de testeo en una variable\n",
    "    cls_true = data.test.cls\n",
    "    \n",
    "    # Obtenemos las clasificaciones predichas para el test-set.\n",
    "    cls_pred = session.run(y_pred_cls, feed_dict=feed_dict_test)\n",
    "\n",
    "    # generamos la matriz de confusión\n",
    "    cm = confusion_matrix(y_true=cls_true,\n",
    "                          y_pred=cls_pred)\n",
    "\n",
    "    # Hacemos un print de la matriz de confusión\n",
    "    print(cm)\n",
    "\n",
    "    # Representamos la matriz\n",
    "    plt.imshow(cm, interpolation='nearest', cmap=plt.cm.Blues)\n",
    "\n",
    "    # Modificaciones cosméticas de la gráfica\n",
    "    plt.tight_layout()\n",
    "    plt.colorbar()\n",
    "    tick_marks = np.arange(num_classes)\n",
    "    plt.xticks(tick_marks, range(num_classes))\n",
    "    plt.yticks(tick_marks, range(num_classes))\n",
    "    plt.xlabel('Predicted')\n",
    "    plt.ylabel('True')\n",
    "    \n",
    "    # Representación de la gráfica\n",
    "    plt.show()"
   ]
  },
  {
   "cell_type": "markdown",
   "metadata": {},
   "source": [
    "A continuación, se muestra una función para representar una muestra de imágenes del test set que se han clasificado incorrectamente."
   ]
  },
  {
   "cell_type": "code",
   "execution_count": 33,
   "metadata": {},
   "outputs": [],
   "source": [
    "def plot_example_errors():\n",
    "    # \n",
    "    correct, cls_pred = session.run([correct_prediction, y_pred_cls],\n",
    "                                    feed_dict=feed_dict_test)\n",
    "    #\n",
    "    incorrect = (correct == False)\n",
    "    \n",
    "    # Tomamos las imágenes mal clasificadas\n",
    "    images = data.test.images[incorrect]\n",
    "    \n",
    "    # Las clases predichas para esas imágenes son:\n",
    "    cls_pred = cls_pred[incorrect]\n",
    "\n",
    "    # Las clases esperadas para las imágenes \n",
    "    # incorrrectamente clasificadas\n",
    "    cls_true = data.test.cls[incorrect]\n",
    "    \n",
    "    # Representamos las primeras 9 imágenes mal clasificadas\n",
    "    # recurriendo a nuestra primera función auxiliar\n",
    "    plot_images(images=images[0:9],\n",
    "                cls_true=cls_true[0:9],\n",
    "                cls_pred=cls_pred[0:9])"
   ]
  },
  {
   "cell_type": "markdown",
   "metadata": {},
   "source": [
    "### Función auxiliar para la representación de los pesos `weights` del modelo"
   ]
  },
  {
   "cell_type": "markdown",
   "metadata": {},
   "source": [
    "Se representan 10 imágenes, uno por cada dígito al que hemos enseñado a nuestro modelo a reconocer. "
   ]
  },
  {
   "cell_type": "code",
   "execution_count": 34,
   "metadata": {},
   "outputs": [],
   "source": [
    "def plot_weights():\n",
    "    # Obtenemos los pesos del modelo, entendidos como una variable TensorFlow.\n",
    "    w = session.run(weights)\n",
    "    \n",
    "    # Se toman los valores máximos y mínimos de los pesos\n",
    "    # como referencia para corregir la intensidad del \n",
    "    # color en la representación y poder hacer comparaciones\n",
    "    # entre pesos.\n",
    "    w_min = np.min(w)\n",
    "    w_max = np.max(w)\n",
    "\n",
    "    # Creamos un subplot 3x4,\n",
    "    # los últimos 2 sub-plots quedarán vacíos.\n",
    "    fig, axes = plt.subplots(3, 4)\n",
    "    fig.subplots_adjust(hspace=0.3, wspace=0.3)\n",
    "\n",
    "    for i, ax in enumerate(axes.flat):\n",
    "        # Sólo usar los pesos para los primeros 10 subplots.\n",
    "        if i < 10:\n",
    "            # A la imagen se le hace un reshape a img_shape x img_shape\n",
    "            # Ahora mismo w.shape == (img_size_flat, 10)\n",
    "            image = w[:, i].reshape(img_shape)\n",
    "\n",
    "            # Indicamos la clase de cada sub-plot.\n",
    "            ax.set_xlabel(\"Weights: {0}\".format(i))\n",
    "\n",
    "            # Representamos la imagen\n",
    "            ax.imshow(image, vmin=w_min, vmax=w_max, cmap='seismic')\n",
    "\n",
    "        # Eliminamos los ticks de cada subplot\n",
    "        ax.set_xticks([])\n",
    "        ax.set_yticks([])\n",
    "        \n",
    "    # Representación de la gráfica\n",
    "    plt.show()"
   ]
  },
  {
   "cell_type": "markdown",
   "metadata": {},
   "source": [
    "## Comportamiento del modelo antes de iniciar optimización\n",
    "\n",
    "La precisión devuelta por la evaluación del test-set es muy baja ahora mismo. El modelo todavía no ha sifo optimizado, por lo que siempre predice que las im-agenes son un cero. Por eso obtenemos un 9.8% de accuracy. en nuestros test-set ese es el porcentaje verdadero de muestras que son un cero."
   ]
  },
  {
   "cell_type": "code",
   "execution_count": 35,
   "metadata": {},
   "outputs": [
    {
     "ename": "NameError",
     "evalue": "name 'feed_dict_test' is not defined",
     "traceback": [
      "\u001b[0;31m---------------------------------------------------------------------------\u001b[0m",
      "\u001b[0;31mNameError\u001b[0m                                 Traceback (most recent call last)",
      "\u001b[0;32m<ipython-input-36-6789fcd6b14d>\u001b[0m in \u001b[0;36m<module>\u001b[0;34m()\u001b[0m\n\u001b[0;32m----> 1\u001b[0;31m \u001b[0mprint_accuracy\u001b[0m\u001b[0;34m(\u001b[0m\u001b[0;34m)\u001b[0m\u001b[0;34m\u001b[0m\u001b[0m\n\u001b[0m",
      "\u001b[0;32m<ipython-input-31-27293199a9eb>\u001b[0m in \u001b[0;36mprint_accuracy\u001b[0;34m()\u001b[0m\n\u001b[1;32m      1\u001b[0m \u001b[0;32mdef\u001b[0m \u001b[0mprint_accuracy\u001b[0m\u001b[0;34m(\u001b[0m\u001b[0;34m)\u001b[0m\u001b[0;34m:\u001b[0m\u001b[0;34m\u001b[0m\u001b[0m\n\u001b[1;32m      2\u001b[0m     \u001b[0;31m# Ejecuta una sesión para calcular la accuracy de nuestro test data-set\u001b[0m\u001b[0;34m\u001b[0m\u001b[0;34m\u001b[0m\u001b[0m\n\u001b[0;32m----> 3\u001b[0;31m     \u001b[0macc\u001b[0m \u001b[0;34m=\u001b[0m \u001b[0msession\u001b[0m\u001b[0;34m.\u001b[0m\u001b[0mrun\u001b[0m\u001b[0;34m(\u001b[0m\u001b[0maccuracy\u001b[0m\u001b[0;34m,\u001b[0m \u001b[0mfeed_dict\u001b[0m\u001b[0;34m=\u001b[0m\u001b[0mfeed_dict_test\u001b[0m\u001b[0;34m)\u001b[0m\u001b[0;34m\u001b[0m\u001b[0m\n\u001b[0m\u001b[1;32m      4\u001b[0m \u001b[0;34m\u001b[0m\u001b[0m\n\u001b[1;32m      5\u001b[0m     \u001b[0;31m# Muestra la precisión\u001b[0m\u001b[0;34m\u001b[0m\u001b[0;34m\u001b[0m\u001b[0m\n",
      "\u001b[0;31mNameError\u001b[0m: name 'feed_dict_test' is not defined"
     ],
     "output_type": "error"
    },
    {
     "name": "stdout",
     "output_type": "stream",
     "text": [
      "Precisión del test-set: 9.8%\n"
     ]
    }
   ],
   "source": [
    "print_accuracy()"
   ]
  },
  {
   "cell_type": "code",
   "execution_count": 36,
   "metadata": {},
   "outputs": [
    {
     "data": {
      "image/png": "[encoded data removed]",
      "text/plain": [
       "<matplotlib.figure.Figure at 0x7f2dd5dd1198>"
      ]
     },
     "metadata": {},
     "output_type": "display_data"
    },
    {
     "data": {
      "image/png": "[encoded data removed]",
      "text/plain": [
       "<matplotlib.figure.Figure at 0x7f1406b70b00>"
      ]
     },
     "metadata": {},
     "output_type": "display_data"
    }
   ],
   "source": [
    "# En este punto, nuestro modelo no acierta a clasificar ni una de las imágenes.\n",
    "plot_example_errors()"
   ]
  },
  {
   "cell_type": "markdown",
   "metadata": {},
   "source": [
    "## Comportamiento del modelo tras 1 iteración\n",
    "\n",
    "Tras una iteración de optimización del modelo a lo largo de todo el training data-set, la precisión del test set debería aumentar."
   ]
  },
  {
   "cell_type": "code",
   "execution_count": 37,
   "metadata": {},
   "outputs": [],
   "source": [
    "optimize(num_iterations = 1)"
   ]
  },
  {
   "cell_type": "code",
   "execution_count": 38,
   "metadata": {},
   "outputs": [
    {
     "name": "stdout",
     "output_type": "stream",
     "text": [
      "Precisión del test-set: 44.3%\n"
     ]
    }
   ],
   "source": [
    "acc = print_accuracy()"
   ]
  },
  {
   "cell_type": "code",
   "execution_count": 39,
   "metadata": {},
   "outputs": [
    {
     "data": {
      "image/png": "[encoded data removed]",
      "text/plain": [
       "<matplotlib.figure.Figure at 0x7f1406b5b390>"
      ]
     },
     "metadata": {},
     "output_type": "display_data"
    }
   ],
   "source": [
    "plot_example_errors()"
   ]
  },
  {
   "cell_type": "markdown",
   "metadata": {},
   "source": [
    "Tras una sola iteración, la precisión ha aumentado significativamente. Como vemos, nuestro modelo ha dejado de clasificar todos los números como un 0. Algunos de los errores que comete nuestro modelo, son entendibles. \n"
   ]
  },
  {
   "cell_type": "markdown",
   "metadata": {},
   "source": [
    "Podemos representar los pesos de nuestro modelo mediante la función `plot_weights()`. Es significativo ver cómo, tras una sola iteración, las formas más características de los números empiezan a esbozarse."
   ]
  },
  {
   "cell_type": "code",
   "execution_count": 40,
   "metadata": {},
   "outputs": [
    {
     "data": {
      "image/png": "[encoded data removed]",
      "text/plain": [
       "<matplotlib.figure.Figure at 0x7f1406b705f8>"
      ]
     },
     "metadata": {},
     "output_type": "display_data"
    }
   ],
   "source": [
    "plot_weights()"
   ]
  },
  {
   "cell_type": "markdown",
   "metadata": {},
   "source": [
    "## Comportamiento del modelo tras 10 iteraciones"
   ]
  },
  {
   "cell_type": "code",
   "execution_count": 41,
   "metadata": {},
   "outputs": [],
   "source": [
    "# Como ya hemos realizado 1 iteración, realizamos 9 iteraciones más.\n",
    "optimize(num_iterations = 9)"
   ]
  },
  {
   "cell_type": "code",
   "execution_count": 42,
   "metadata": {},
   "outputs": [
    {
     "name": "stdout",
     "output_type": "stream",
     "text": [
      "Precisión del test-set: 76.5%\n"
     ]
    }
   ],
   "source": [
    "print_accuracy()"
   ]
  },
  {
   "cell_type": "code",
   "execution_count": 43,
   "metadata": {},
   "outputs": [
    {
     "data": {
      "image/png": "[encoded data removed]",
      "text/plain": [
       "<matplotlib.figure.Figure at 0x7f1406c057f0>"
      ]
     },
     "metadata": {},
     "output_type": "display_data"
    }
   ],
   "source": [
    "# Representamos algunos de los ejemplos del test-set cuya clasificación ha fallado. \n",
    "plot_example_errors()"
   ]
  },
  {
   "cell_type": "code",
   "execution_count": 44,
   "metadata": {},
   "outputs": [
    {
     "data": {
      "image/png": "[encoded data removed]",
      "text/plain": [
       "<matplotlib.figure.Figure at 0x7f14042c76a0>"
      ]
     },
     "metadata": {},
     "output_type": "display_data"
    }
   ],
   "source": [
    "plot_weights()"
   ]
  },
  {
   "cell_type": "markdown",
   "metadata": {},
   "source": [
    "## Comportamiento del modelo tras 1000 iteraciones\n",
    "\n",
    "Después de 1.0e+03 iteraciones de optimización, el modelo es capaz de acertar aproximadamente 9 de cada 10 imágenes. Algunos de los fallos están justificados, pues algunos números estań mal escritos y se prestan a confusión. Por otro lado, hay otros que resultan obvios y que nuestro modelo no puede clasificar. Este modelo lineal no permite precisiones sustancialmente mejores, por eso se recurren a otros enfoques y arquitecturas que se mencionarán posteriormente."
   ]
  },
  {
   "cell_type": "code",
   "execution_count": 45,
   "metadata": {},
   "outputs": [],
   "source": [
    "# Realizamos 990 iteraciones más, pues ya tenemos hechas 10\n",
    "optimize(num_iterations=990)"
   ]
  },
  {
   "cell_type": "code",
   "execution_count": 46,
   "metadata": {},
   "outputs": [
    {
     "name": "stdout",
     "output_type": "stream",
     "text": [
      "Precisión del test-set: 91.9%\n"
     ]
    }
   ],
   "source": [
    "print_accuracy()"
   ]
  },
  {
   "cell_type": "code",
   "execution_count": 47,
   "metadata": {},
   "outputs": [
    {
     "data": {
      "image/png": "[encoded data removed]",
      "text/plain": [
       "<matplotlib.figure.Figure at 0x7f14042cc588>"
      ]
     },
     "metadata": {},
     "output_type": "display_data"
    }
   ],
   "source": [
    "plot_example_errors()"
   ]
  },
  {
   "cell_type": "markdown",
   "metadata": {},
   "source": [
    "Nuestro modelo ha sido entrenado a lo largo de 1.0e+03 iteraciones, tomando en cada iteración 100 imágenes del training set. Debido a la gran variedad de imágenes, ahora los pesos se hacen mucho más difícil de interpretar. La abstracción de los mismos ha aumentado, y podemos ver cómo sólo se resaltan algunas partes o segmentos de los números.  "
   ]
  },
  {
   "cell_type": "code",
   "execution_count": 48,
   "metadata": {},
   "outputs": [
    {
     "data": {
      "image/png": "[encoded data removed]",
      "text/plain": [
       "<matplotlib.figure.Figure at 0x7f14027f44a8>"
      ]
     },
     "metadata": {},
     "output_type": "display_data"
    }
   ],
   "source": [
    "plot_weights()"
   ]
  },
  {
   "cell_type": "markdown",
   "metadata": {},
   "source": [
    "Podemos echarle un vistazo también a la matriz de confusión, ya que nos dará algunos detalles sobre los errores de clasificación observados. Por ejemplo, parece que el número que más le cuesta a nuestro modelo identificar es el 5, que puede confundirse con el 3 o el 8.  "
   ]
  },
  {
   "cell_type": "code",
   "execution_count": 49,
   "metadata": {},
   "outputs": [
    {
     "name": "stdout",
     "output_type": "stream",
     "text": [
      "[[ 956    0    3    3    1    6    4    4    3    0]\n [   0 1106    2    2    1    1    4    2   17    0]\n [   9    6  934   13   13    1    9   11   33    3]\n [   3    1   26  919    0   18    2   12   23    6]\n [   1    2    8    1  916    0    9    2    9   34]\n [  12    3   10   48   11  737   14   10   39    8]\n [  13    3    6    2   11   10  905    2    6    0]\n [   2    6   24    7    7    0    0  958    2   22]\n [   7    7    7   18    8   18    9   13  886    1]\n [  11    5    3   11   43    5    0   35   14  882]]\n"
     ]
    },
    {
     "data": {
      "image/png": "[encoded data removed]",
      "text/plain": [
       "<matplotlib.figure.Figure at 0x7f2dd3425c50>"
      ]
     },
     "metadata": {},
     "output_type": "display_data"
    },
    {
     "name": "stdout",
     "output_type": "stream",
     "text": [
      "[[ 949    0    2    2    0    9   11    4    3    0]\n [   0 1101    2    2    1    2    4    2   21    0]\n [   6    7  915   10   15    6   15   13   38    7]\n [   3    0   18  884    1   54    4   14   21   11]\n [   1    1    2    1  912    0   15    2   10   38]\n [   8    2    2   16    9  793   20    5   29    8]\n [   9    3    4    1   10   12  914    3    2    0]\n [   1    6   23    7    6    1    0  951    2   31]\n [   4    4    7   16    9   30   15   13  862   14]\n [  10    4    2    7   32    8    0   25   11  910]]\n"
     ]
    },
    {
     "data": {
      "image/png": "[encoded data removed]",
      "text/plain": [
       "<matplotlib.figure.Figure at 0x7f140428f6a0>"
      ]
     },
     "metadata": {},
     "output_type": "display_data"
    }
   ],
   "source": [
    "# Recurrimos a la función print_confusion_matrix() para obtener la matriz de confusión.\n",
    "print_confusion_matrix()"
   ]
  },
  {
   "cell_type": "markdown",
   "metadata": {},
   "source": [
    "Podemos cerrar la sesión una vez hayamos terminado nuestro análisis."
   ]
  },
  {
   "cell_type": "code",
   "execution_count": 50,
   "metadata": {},
   "outputs": [],
   "source": [
    "session.close()"
   ]
  }
 ],
 "metadata": {
  "anaconda-cloud": {},
  "kernelspec": {
   "display_name": "Python 3",
   "language": "python",
   "name": "python3"
  },
  "language_info": {
   "codemirror_mode": {
    "name": "ipython",
    "version": 3
   },
   "file_extension": ".py",
   "mimetype": "text/x-python",
   "name": "python",
   "nbconvert_exporter": "python",
   "pygments_lexer": "ipython3",
   "version": "3.6.1"
  }
 },
 "nbformat": 4,
 "nbformat_minor": 1
}
