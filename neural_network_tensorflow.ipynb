{
 "cells": [
  {
   "cell_type": "markdown",
   "metadata": {},
   "source": [
    "# Creando nuestras primeras neuronas"
   ]
  },
  {
   "cell_type": "code",
   "execution_count": 2,
   "metadata": {
    "collapsed": false
   },
   "outputs": [
    {
     "name": "stderr",
     "output_type": "stream",
     "text": [
      "/home/eblancoh/anaconda3/envs/universe/lib/python3.5/site-packages/h5py/__init__.py:34: FutureWarning: Conversion of the second argument of issubdtype from `float` to `np.floating` is deprecated. In future, it will be treated as `np.float64 == np.dtype(float).type`.\n",
      "  from ._conv import register_converters as _register_converters\n"
     ]
    }
   ],
   "source": [
    "import numpy as np\n",
    "import tensorflow as tf"
   ]
  },
  {
   "cell_type": "code",
   "execution_count": 3,
   "metadata": {
    "collapsed": true
   },
   "outputs": [],
   "source": [
    "import matplotlib.pyplot as plt"
   ]
  },
  {
   "cell_type": "code",
   "execution_count": 4,
   "metadata": {
    "collapsed": true
   },
   "outputs": [],
   "source": [
    "# Elegimos una semilla para números aleatorios\n",
    "np.random.seed(123)\n",
    "tf.set_random_seed(123)"
   ]
  },
  {
   "cell_type": "raw",
   "metadata": {},
   "source": [
    "Generamos algunos datos de prueba "
   ]
  },
  {
   "cell_type": "code",
   "execution_count": 5,
   "metadata": {
    "collapsed": false
   },
   "outputs": [
    {
     "data": {
      "text/plain": [
       "array([[13.92938371,  5.7227867 ,  4.53702907, 11.02629538],\n",
       "       [14.3893794 ,  8.4621292 , 19.61528397, 13.69659477],\n",
       "       [ 9.61863803,  7.84235036,  6.86356032, 14.58099415],\n",
       "       [ 8.77144489,  1.19355793,  7.96088511, 14.75990811]])"
      ]
     },
     "execution_count": 5,
     "metadata": {},
     "output_type": "execute_result"
    }
   ],
   "source": [
    "random_a = np.random.uniform(0, 20, (4, 4))\n",
    "random_a"
   ]
  },
  {
   "cell_type": "code",
   "execution_count": 6,
   "metadata": {
    "collapsed": false
   },
   "outputs": [
    {
     "data": {
      "text/plain": [
       "array([[ 3.64983461],\n",
       "       [ 3.50903512],\n",
       "       [10.63102748],\n",
       "       [10.63655174]])"
      ]
     },
     "execution_count": 6,
     "metadata": {},
     "output_type": "execute_result"
    }
   ],
   "source": [
    "random_b = np.random.uniform(0,20,(4,1))\n",
    "random_b"
   ]
  },
  {
   "cell_type": "raw",
   "metadata": {},
   "source": [
    "Definimos dos Placeholders a y b como float32"
   ]
  },
  {
   "cell_type": "code",
   "execution_count": 7,
   "metadata": {
    "collapsed": true
   },
   "outputs": [],
   "source": [
    "a = tf.placeholder(tf.float32)\n",
    "b = tf.placeholder(tf.float32)"
   ]
  },
  {
   "cell_type": "raw",
   "metadata": {},
   "source": [
    "Definimos dos operaciones de prueba: una suma y una multiplicación"
   ]
  },
  {
   "cell_type": "code",
   "execution_count": 8,
   "metadata": {
    "collapsed": true
   },
   "outputs": [],
   "source": [
    "#tf.add(a,b)\n",
    "sum_operator = a + b\n",
    "\n",
    "#tf.multiply(a,b)\n",
    "mult_operator = a * b "
   ]
  },
  {
   "cell_type": "markdown",
   "metadata": {},
   "source": [
    "# Ejecutar sesiones haciendo uso de Feed Dictionaries"
   ]
  },
  {
   "cell_type": "raw",
   "metadata": {},
   "source": [
    "En la sesión primero definimos la operación a realizar y, después, se le pasan las variables\n",
    "embebidas en un feed dictionary: sess.run(operation, feed_dict={...})"
   ]
  },
  {
   "cell_type": "code",
   "execution_count": 9,
   "metadata": {
    "collapsed": false
   },
   "outputs": [
    {
     "name": "stdout",
     "output_type": "stream",
     "text": [
      "[[17.579218  9.372622  8.186864 14.67613 ]\n",
      " [17.898415 11.971165 23.12432  17.205631]\n",
      " [20.249664 18.473377 17.494587 25.21202 ]\n",
      " [19.407997 11.83011  18.597437 25.39646 ]]\n",
      "\n",
      "\n",
      "[[ 50.839947  20.887226  16.559406  40.244156]\n",
      " [ 50.492836  29.69391   68.83072   48.061832]\n",
      " [102.256004  83.37224   72.9667   155.01096 ]\n",
      " [ 93.297935  12.695341  84.67637  156.99452 ]]\n"
     ]
    }
   ],
   "source": [
    "with tf.Session() as sess:\n",
    "    add_result = sess.run(sum_operator, feed_dict={a: random_a, b: random_b})\n",
    "    print(add_result)\n",
    "    \n",
    "    print('\\n')\n",
    "    \n",
    "    mult_result = sess.run(mult_operator, feed_dict={a: random_a, b: random_b})\n",
    "    print(mult_result)"
   ]
  },
  {
   "cell_type": "markdown",
   "metadata": {},
   "source": [
    "# Ejemplo sencillo de Red Neuronal"
   ]
  },
  {
   "cell_type": "code",
   "execution_count": 10,
   "metadata": {
    "collapsed": true
   },
   "outputs": [],
   "source": [
    "# Definimos el número de variables y el número de neuronas que tendrá nuestra primera capa\n",
    "n_features = 10\n",
    "n_dense_neurons = 5"
   ]
  },
  {
   "cell_type": "code",
   "execution_count": 11,
   "metadata": {
    "collapsed": true
   },
   "outputs": [],
   "source": [
    "# Definimos el Placeholder para la variable independiente x\n",
    "x = tf.placeholder(tf.float32, (None, n_features))"
   ]
  },
  {
   "cell_type": "code",
   "execution_count": 12,
   "metadata": {
    "collapsed": true
   },
   "outputs": [],
   "source": [
    "# Definimos las matrices correspondientes a los bias y los pesos W\n",
    "b = tf.Variable(tf.zeros([n_dense_neurons]))\n",
    "\n",
    "W = tf.Variable(tf.random_normal([n_features, n_dense_neurons]))"
   ]
  },
  {
   "cell_type": "markdown",
   "metadata": {},
   "source": [
    "## Definición de la función de activación"
   ]
  },
  {
   "cell_type": "code",
   "execution_count": 13,
   "metadata": {
    "collapsed": true
   },
   "outputs": [],
   "source": [
    "# Definimos el producto de las dos matrices x y W\n",
    "W_x = tf.matmul(x, W)"
   ]
  },
  {
   "cell_type": "code",
   "execution_count": 14,
   "metadata": {
    "collapsed": true
   },
   "outputs": [],
   "source": [
    "# La salida de la capa de neuronas z = W·x + b\n",
    "z = tf.add(W_x, b)"
   ]
  },
  {
   "cell_type": "code",
   "execution_count": 15,
   "metadata": {
    "collapsed": true
   },
   "outputs": [],
   "source": [
    "# tf.nn.relu() or tf.tanh()\n",
    "activation = tf.sigmoid(z)"
   ]
  },
  {
   "cell_type": "raw",
   "metadata": {},
   "source": [
    "¡No debemos olvidarnos de inicializar las variables!"
   ]
  },
  {
   "cell_type": "code",
   "execution_count": 16,
   "metadata": {
    "collapsed": true
   },
   "outputs": [],
   "source": [
    "init = tf.global_variables_initializer()"
   ]
  },
  {
   "cell_type": "code",
   "execution_count": 17,
   "metadata": {
    "collapsed": true
   },
   "outputs": [],
   "source": [
    "with tf.Session() as sess:\n",
    "    sess.run(init)\n",
    "    # Para obtener la salida a nuestra capa de 5 neuronas, indicamos la función de activación (operación)\n",
    "    # y le pasamos como variabl un array aletaorio de dimensión [1, n_features]\n",
    "    layer_out = sess.run(activation, feed_dict={x : np.random.random([1,n_features])})"
   ]
  },
  {
   "cell_type": "code",
   "execution_count": 18,
   "metadata": {
    "collapsed": false
   },
   "outputs": [
    {
     "name": "stdout",
     "output_type": "stream",
     "text": [
      "[[0.03293002 0.13216355 0.461144   0.22631334 0.891941  ]]\n"
     ]
    }
   ],
   "source": [
    "print(layer_out)"
   ]
  },
  {
   "cell_type": "raw",
   "metadata": {},
   "source": [
    "A continuación, procederemos con el proceso de optimización."
   ]
  },
  {
   "cell_type": "markdown",
   "metadata": {},
   "source": [
    "# Ejemplo de Regresión Lineal con TensorFlow"
   ]
  },
  {
   "cell_type": "raw",
   "metadata": {},
   "source": [
    "Para ello, trabajaremos con un ejemplo de regresión, donde buscaremos resolver el sencillo ajuste:\n",
    "y = m·x + b\n",
    "\n",
    "Nuestra misión es aproximar la pendiente \"m\" y el punto de corte con el eje de ordenadas \"b\", de tal forma que \n",
    "se minimice la distancia de la recta a todos los puntos representados."
   ]
  },
  {
   "cell_type": "code",
   "execution_count": 19,
   "metadata": {
    "collapsed": true
   },
   "outputs": [],
   "source": [
    "# Fabricaremos algunas variables independientes aleatorias:\n",
    "x_data = np.linspace(0,50,50) + np.random.uniform(-0.5,0.5,50)"
   ]
  },
  {
   "cell_type": "code",
   "execution_count": 20,
   "metadata": {
    "collapsed": true
   },
   "outputs": [],
   "source": [
    "y_label = np.linspace(0,10,50) + np.random.uniform(-1.5,1.5,50)"
   ]
  },
  {
   "cell_type": "code",
   "execution_count": 21,
   "metadata": {
    "collapsed": false
   },
   "outputs": [
    {
     "data": {
      "image/png": "[encoded data removed]",
      "text/plain": [
       "<matplotlib.figure.Figure at 0x7f203a4b4240>"
      ]
     },
     "metadata": {},
     "output_type": "display_data"
    }
   ],
   "source": [
    "plt.scatter(x_data, y_label, s = 7)\n",
    "plt.grid()\n",
    "plt.xlabel(\"x\")\n",
    "plt.ylabel(\"y\")\n",
    "plt.show()"
   ]
  },
  {
   "cell_type": "raw",
   "metadata": {},
   "source": [
    "Resulta sencillo definir una función de error que minimizar entre el valor observado \n",
    "y el predicho por nuestro modelo. "
   ]
  },
  {
   "cell_type": "code",
   "execution_count": 36,
   "metadata": {
    "collapsed": true
   },
   "outputs": [],
   "source": [
    "# Inicializamos con valores aleatorios como variables la pendiente y la intersección \n",
    "# de nuestra recta a ajustar a los datos.\n",
    "misc = np.random.rand(2)\n",
    "\n",
    "m = tf.Variable(misc[0], dtype = tf.float32)\n",
    "b = tf.Variable(misc[1], dtype = tf.float32)"
   ]
  },
  {
   "cell_type": "markdown",
   "metadata": {},
   "source": [
    "## Definición de una función de coste"
   ]
  },
  {
   "cell_type": "code",
   "execution_count": 37,
   "metadata": {
    "collapsed": true
   },
   "outputs": [],
   "source": [
    "# Definimos al inicio un error nulo\n",
    "error = 0\n",
    "for x, y in zip(x_data, y_label):\n",
    "    # Nuestro valor predicho\n",
    "    y_pred = m * x + b\n",
    "    # Definimos la función de coste. en este caso hacemos uso de la típica RMS.\n",
    "    # ¡Necesitaremos una función de optimización para la minimización!\n",
    "\n",
    "    error += (y - y_pred)**2"
   ]
  },
  {
   "cell_type": "raw",
   "metadata": {},
   "source": [
    "Definimos el optimizador a usar. Necesitamos indicarle una tasa de aprendizaje inicial."
   ]
  },
  {
   "cell_type": "code",
   "execution_count": 38,
   "metadata": {
    "collapsed": true
   },
   "outputs": [],
   "source": [
    "optimizer = tf.train.GradientDescentOptimizer(learning_rate = 1e-5)\n",
    "# Elegir learning rates muy elevadas puede provocar que la solución posterior diverja.\n",
    "# Buscamos minimizar el optimizador anterior.\n",
    "train = optimizer.minimize(error)"
   ]
  },
  {
   "cell_type": "raw",
   "metadata": {},
   "source": [
    "¡Inicializamos las variables con tf.global_variables_initializer()!"
   ]
  },
  {
   "cell_type": "code",
   "execution_count": 39,
   "metadata": {
    "collapsed": true
   },
   "outputs": [],
   "source": [
    "init = tf.global_variables_initializer()"
   ]
  },
  {
   "cell_type": "raw",
   "metadata": {},
   "source": [
    "Se crea y se ejecuta la sesión"
   ]
  },
  {
   "cell_type": "code",
   "execution_count": 40,
   "metadata": {
    "collapsed": true
   },
   "outputs": [],
   "source": [
    "with tf.Session() as sess:\n",
    "\n",
    "    sess.run(init)\n",
    "    # Elegimos un número de epochs en el que entrenar nuestra red\n",
    "    epochs = 100\n",
    "    for i in range(epochs):\n",
    "        sess.run(train)\n",
    "        \n",
    "    # Los resultados de la pendiente y el punto de intersección se pueden obtener fácilmente\n",
    "    final_m , final_b = sess.run([m, b])"
   ]
  },
  {
   "cell_type": "code",
   "execution_count": 41,
   "metadata": {
    "collapsed": false
   },
   "outputs": [
    {
     "name": "stdout",
     "output_type": "stream",
     "text": [
      "0.17716128 0.83050585\n"
     ]
    }
   ],
   "source": [
    "print(final_m, final_b)"
   ]
  },
  {
   "cell_type": "markdown",
   "metadata": {},
   "source": [
    "## Evaluación del ajuste"
   ]
  },
  {
   "cell_type": "code",
   "execution_count": 42,
   "metadata": {
    "collapsed": true
   },
   "outputs": [],
   "source": [
    "# Elegimos un conjunto de variables independientes de prueba y obtenemos su predicción \n",
    "x_test = np.linspace(0, 50, 50)\n",
    "y_test = final_m * x_test + final_b"
   ]
  },
  {
   "cell_type": "code",
   "execution_count": 43,
   "metadata": {
    "collapsed": false
   },
   "outputs": [
    {
     "data": {
      "image/png": "[encoded data removed]",
      "text/plain": [
       "<matplotlib.figure.Figure at 0x7f2028684358>"
      ]
     },
     "metadata": {},
     "output_type": "display_data"
    }
   ],
   "source": [
    "plt.scatter(x_data,y_label, s = 7)\n",
    "plt.plot(x_test, y_test, 'r', linewidth = .75)\n",
    "plt.grid()\n",
    "plt.xlabel(\"x\")\n",
    "plt.ylabel(\"y\")\n",
    "plt.show()"
   ]
  },
  {
   "cell_type": "raw",
   "metadata": {},
   "source": [
    "La línea roja estimada por nuestro modelo se ajusta adecuadamente a la nube de puntos."
   ]
  },
  {
   "cell_type": "raw",
   "metadata": {},
   "source": [
    "El coeficiente de determinación r-squared nos dará la bondad de nuestro ajuste:"
   ]
  },
  {
   "cell_type": "code",
   "execution_count": 44,
   "metadata": {
    "collapsed": true
   },
   "outputs": [],
   "source": [
    "# Suma de los cuadrados de los residuos:\n",
    "SS_res = np.sum((y_label - (final_m * x_data + final_b))**2)\n",
    "# La suma de los cuadrados totales se define como:\n",
    "SS_tot = np.sum((y_label - np.mean(y_label))**2)\n",
    "\n",
    "# El coeficiente r**2 se define como:\n",
    "r_squared = 1 - SS_res/SS_tot"
   ]
  },
  {
   "cell_type": "code",
   "execution_count": 45,
   "metadata": {
    "collapsed": false
   },
   "outputs": [
    {
     "data": {
      "text/plain": [
       "0.9099748909509469"
      ]
     },
     "execution_count": 45,
     "metadata": {},
     "output_type": "execute_result"
    }
   ],
   "source": [
    "r_squared"
   ]
  },
  {
   "cell_type": "raw",
   "metadata": {},
   "source": [
    "Muy cercano a 1. Nuestro ajuste es satisfactorio."
   ]
  }
 ],
 "metadata": {
  "anaconda-cloud": {},
  "kernelspec": {
   "display_name": "Python [default]",
   "language": "python",
   "name": "python3"
  },
  "language_info": {
   "codemirror_mode": {
    "name": "ipython",
    "version": 3
   },
   "file_extension": ".py",
   "mimetype": "text/x-python",
   "name": "python",
   "nbconvert_exporter": "python",
   "pygments_lexer": "ipython3",
   "version": "3.5.2"
  }
 },
 "nbformat": 4,
 "nbformat_minor": 2
}
